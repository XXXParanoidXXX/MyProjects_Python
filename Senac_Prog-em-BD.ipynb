{
 "cells": [
  {
   "cell_type": "code",
   "execution_count": 4,
   "metadata": {},
   "outputs": [
    {
     "name": "stdout",
     "output_type": "stream",
     "text": [
      "Hello Leia\n",
      "Hello Skywalker\n",
      "Hello Darth Vader\n",
      "Hello R2D2\n",
      "Hello C3PO\n"
     ]
    }
   ],
   "source": [
    "nomes = ['Leia', 'Skywalker', 'Darth Vader', 'R2D2', 'C3PO']\n",
    "\n",
    "for nome in nomes:\n",
    "    print('Hello %s' %nome)"
   ]
  },
  {
   "cell_type": "code",
   "execution_count": 6,
   "metadata": {},
   "outputs": [
    {
     "name": "stdout",
     "output_type": "stream",
     "text": [
      "Fuck you, Trump!\n",
      "Fuck you, Musk!\n"
     ]
    }
   ],
   "source": [
    "fuckers = ['Trump', 'Musk']\n",
    "\n",
    "for nome in fuckers:\n",
    "    print('Fuck you, %s!' %nome)"
   ]
  },
  {
   "cell_type": "code",
   "execution_count": null,
   "metadata": {},
   "outputs": [],
   "source": []
  }
 ],
 "metadata": {
  "kernelspec": {
   "display_name": "base",
   "language": "python",
   "name": "python3"
  },
  "language_info": {
   "codemirror_mode": {
    "name": "ipython",
    "version": 3
   },
   "file_extension": ".py",
   "mimetype": "text/x-python",
   "name": "python",
   "nbconvert_exporter": "python",
   "pygments_lexer": "ipython3",
   "version": "3.12.7"
  }
 },
 "nbformat": 4,
 "nbformat_minor": 2
}
