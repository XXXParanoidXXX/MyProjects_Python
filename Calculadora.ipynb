{
 "cells": [
  {
   "cell_type": "code",
   "execution_count": 76,
   "id": "88732b0c-c997-4634-bc3b-255148ffbb77",
   "metadata": {},
   "outputs": [],
   "source": [
    "from datetime import datetime\n",
    "data_atual = datetime.now().date()\n",
    "hora_atual = datetime.now().time()\n",
    "data_atual_formatada = data_atual.strftime(\"%d/%m/%Y\")\n",
    "hora_atual_formatada = hora_atual.strftime(\"%H:%M\")"
   ]
  },
  {
   "cell_type": "code",
   "execution_count": 78,
   "id": "cc636ef5-0a83-4cab-8ce3-fdf40ccd1953",
   "metadata": {},
   "outputs": [
    {
     "name": "stdout",
     "output_type": "stream",
     "text": [
      "Bom dia Vinícius! Hoje é dia 18/01/2025, 12:14 horas. Seja bem vindo!\n"
     ]
    }
   ],
   "source": [
    "print(\"Bom dia Vinícius! Hoje é dia {}, {} horas. Seja bem vindo!\".format(data_atual_formatada, hora_atual_formatada))"
   ]
  },
  {
   "cell_type": "code",
   "execution_count": 58,
   "id": "b95d34f4-4982-4a2a-8779-265edb2956de",
   "metadata": {},
   "outputs": [],
   "source": [
    "def calculadora_simples (n1, operador, n2):\n",
    "    \"\"\"\n",
    "    Função que retorna cálculos básicos de:\n",
    "    1) Soma (\"+\");\n",
    "    2) Subtração (\"-\");\n",
    "    3) Multiplicação (\"x\");\n",
    "    4) Divisão (\"/\");\n",
    "    Onde os parâmetros são:\n",
    "    1) n1 = 1º número;\n",
    "    2) operador = sinal da operação matemática;\n",
    "    3) n2 = 2º número.\n",
    "\n",
    "    >>> calculadora_simples(5, \"-\", 3)\n",
    "    2\n",
    "    \"\"\"\n",
    "    if operador == \"+\":\n",
    "        resultado = n1 + n2\n",
    "    elif operador == \"-\":\n",
    "        resultado = n1 - n2\n",
    "    elif operador == \"x\":\n",
    "        resultado = n1 * n2\n",
    "    elif operador == \"/\":\n",
    "        resultado = n1 / n2\n",
    "    return resultado"
   ]
  },
  {
   "cell_type": "code",
   "execution_count": 60,
   "id": "8e8a686c-a53d-48e4-a644-89e22a96bbc0",
   "metadata": {},
   "outputs": [
    {
     "name": "stdout",
     "output_type": "stream",
     "text": [
      "2\n"
     ]
    }
   ],
   "source": [
    "print(calculadora_simples(5, \"-\", 3))"
   ]
  },
  {
   "cell_type": "code",
   "execution_count": 62,
   "id": "cf739356-cce8-4ffc-bd3a-879a391e70c3",
   "metadata": {},
   "outputs": [
    {
     "name": "stdout",
     "output_type": "stream",
     "text": [
      "164.54\n"
     ]
    }
   ],
   "source": [
    "print(calculadora_simples(159.76, \"+\", 4.78))"
   ]
  },
  {
   "cell_type": "code",
   "execution_count": 64,
   "id": "d9fa29b6-11e6-4f39-93e8-ef0a1a208690",
   "metadata": {},
   "outputs": [
    {
     "name": "stdout",
     "output_type": "stream",
     "text": [
      "178.29999999999998\n"
     ]
    }
   ],
   "source": [
    "print(calculadora_simples(164.54, \"+\", 13.76))"
   ]
  },
  {
   "cell_type": "code",
   "execution_count": 66,
   "id": "46151dbb-f18c-4e1e-ba62-89694b721761",
   "metadata": {},
   "outputs": [
    {
     "name": "stdout",
     "output_type": "stream",
     "text": [
      "Help on function calculadora_simples in module __main__:\n",
      "\n",
      "calculadora_simples(n1, operador, n2)\n",
      "    Função que retorna cálculos básicos de:\n",
      "    1) Soma (\"+\");\n",
      "    2) Subtração (\"-\");\n",
      "    3) Multiplicação (\"x\");\n",
      "    4) Divisão (\"/\");\n",
      "    Onde os parâmetros são:\n",
      "    1) n1 = 1º número;\n",
      "    2) operador = sinal da operação matemática;\n",
      "    3) n2 = 2º número.\n",
      "\n",
      "    >>> calculadora_simples(5, \"-\", 3)\n",
      "    2\n",
      "\n"
     ]
    }
   ],
   "source": [
    "help(calculadora_simples)"
   ]
  }
 ],
 "metadata": {
  "kernelspec": {
   "display_name": "Python [conda env:base] *",
   "language": "python",
   "name": "conda-base-py"
  },
  "language_info": {
   "codemirror_mode": {
    "name": "ipython",
    "version": 3
   },
   "file_extension": ".py",
   "mimetype": "text/x-python",
   "name": "python",
   "nbconvert_exporter": "python",
   "pygments_lexer": "ipython3",
   "version": "3.12.7"
  }
 },
 "nbformat": 4,
 "nbformat_minor": 5
}
