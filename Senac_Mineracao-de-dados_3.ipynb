{
 "cells": [
  {
   "cell_type": "code",
   "execution_count": 1,
   "metadata": {},
   "outputs": [],
   "source": [
    "import numpy as np\n",
    "import pandas as pd"
   ]
  },
  {
   "cell_type": "code",
   "execution_count": 2,
   "metadata": {},
   "outputs": [
    {
     "data": {
      "text/html": [
       "<div>\n",
       "<style scoped>\n",
       "    .dataframe tbody tr th:only-of-type {\n",
       "        vertical-align: middle;\n",
       "    }\n",
       "\n",
       "    .dataframe tbody tr th {\n",
       "        vertical-align: top;\n",
       "    }\n",
       "\n",
       "    .dataframe thead th {\n",
       "        text-align: right;\n",
       "    }\n",
       "</style>\n",
       "<table border=\"1\" class=\"dataframe\">\n",
       "  <thead>\n",
       "    <tr style=\"text-align: right;\">\n",
       "      <th></th>\n",
       "      <th>Idade</th>\n",
       "      <th>Receita Anual</th>\n",
       "      <th>Pontuação de Gastos</th>\n",
       "    </tr>\n",
       "  </thead>\n",
       "  <tbody>\n",
       "    <tr>\n",
       "      <th>0</th>\n",
       "      <td>52</td>\n",
       "      <td>98247</td>\n",
       "      <td>42</td>\n",
       "    </tr>\n",
       "    <tr>\n",
       "      <th>1</th>\n",
       "      <td>39</td>\n",
       "      <td>49783</td>\n",
       "      <td>45</td>\n",
       "    </tr>\n",
       "    <tr>\n",
       "      <th>2</th>\n",
       "      <td>44</td>\n",
       "      <td>50942</td>\n",
       "      <td>71</td>\n",
       "    </tr>\n",
       "    <tr>\n",
       "      <th>3</th>\n",
       "      <td>57</td>\n",
       "      <td>84540</td>\n",
       "      <td>63</td>\n",
       "    </tr>\n",
       "    <tr>\n",
       "      <th>4</th>\n",
       "      <td>53</td>\n",
       "      <td>52403</td>\n",
       "      <td>62</td>\n",
       "    </tr>\n",
       "  </tbody>\n",
       "</table>\n",
       "</div>"
      ],
      "text/plain": [
       "   Idade  Receita Anual  Pontuação de Gastos\n",
       "0     52          98247                   42\n",
       "1     39          49783                   45\n",
       "2     44          50942                   71\n",
       "3     57          84540                   63\n",
       "4     53          52403                   62"
      ]
     },
     "execution_count": 2,
     "metadata": {},
     "output_type": "execute_result"
    }
   ],
   "source": [
    "np.random.seed(0)\n",
    "\n",
    "n = 100\n",
    "\n",
    "age = np.random.normal(loc=35, scale=10, size = n).astype(int)\n",
    "annual_income = np.random.normal(loc=70000, scale=15000, size=n).astype(int)\n",
    "spending_score = np.random.normal(loc=50, scale=20 , size =n).astype(int)\n",
    "\n",
    "data = {\n",
    "    'Idade': age,\n",
    "    'Receita Anual': annual_income,\n",
    "    'Pontuação de Gastos': spending_score\n",
    "}\n",
    "df = pd.DataFrame(data)\n",
    "df.head()"
   ]
  },
  {
   "cell_type": "code",
   "execution_count": 3,
   "metadata": {},
   "outputs": [
    {
     "data": {
      "text/html": [
       "<div>\n",
       "<style scoped>\n",
       "    .dataframe tbody tr th:only-of-type {\n",
       "        vertical-align: middle;\n",
       "    }\n",
       "\n",
       "    .dataframe tbody tr th {\n",
       "        vertical-align: top;\n",
       "    }\n",
       "\n",
       "    .dataframe thead th {\n",
       "        text-align: right;\n",
       "    }\n",
       "</style>\n",
       "<table border=\"1\" class=\"dataframe\">\n",
       "  <thead>\n",
       "    <tr style=\"text-align: right;\">\n",
       "      <th></th>\n",
       "      <th>Idade</th>\n",
       "      <th>Receita Anual</th>\n",
       "      <th>Pontuação de Gastos</th>\n",
       "    </tr>\n",
       "  </thead>\n",
       "  <tbody>\n",
       "    <tr>\n",
       "      <th>0</th>\n",
       "      <td>1.677947</td>\n",
       "      <td>1.740808</td>\n",
       "      <td>-0.333525</td>\n",
       "    </tr>\n",
       "    <tr>\n",
       "      <th>1</th>\n",
       "      <td>0.387982</td>\n",
       "      <td>-1.381874</td>\n",
       "      <td>-0.175706</td>\n",
       "    </tr>\n",
       "    <tr>\n",
       "      <th>2</th>\n",
       "      <td>0.884122</td>\n",
       "      <td>-1.307197</td>\n",
       "      <td>1.192063</td>\n",
       "    </tr>\n",
       "    <tr>\n",
       "      <th>3</th>\n",
       "      <td>2.174087</td>\n",
       "      <td>0.857624</td>\n",
       "      <td>0.771211</td>\n",
       "    </tr>\n",
       "    <tr>\n",
       "      <th>4</th>\n",
       "      <td>1.777175</td>\n",
       "      <td>-1.213060</td>\n",
       "      <td>0.718605</td>\n",
       "    </tr>\n",
       "  </tbody>\n",
       "</table>\n",
       "</div>"
      ],
      "text/plain": [
       "      Idade  Receita Anual  Pontuação de Gastos\n",
       "0  1.677947       1.740808            -0.333525\n",
       "1  0.387982      -1.381874            -0.175706\n",
       "2  0.884122      -1.307197             1.192063\n",
       "3  2.174087       0.857624             0.771211\n",
       "4  1.777175      -1.213060             0.718605"
      ]
     },
     "execution_count": 3,
     "metadata": {},
     "output_type": "execute_result"
    }
   ],
   "source": [
    "from sklearn.preprocessing import StandardScaler\n",
    "\n",
    "scaler = StandardScaler()\n",
    "df_scaled = scaler.fit_transform(df)\n",
    "df_scaled = pd.DataFrame(df_scaled, columns=df.columns)\n",
    "\n",
    "df_scaled.head()"
   ]
  },
  {
   "cell_type": "code",
   "execution_count": 4,
   "metadata": {},
   "outputs": [],
   "source": [
    "from sklearn.cluster import KMeans\n",
    "import matplotlib.pyplot as plt"
   ]
  },
  {
   "cell_type": "code",
   "execution_count": 6,
   "metadata": {},
   "outputs": [],
   "source": [
    "wcss = []\n",
    "for i in range(1,11):\n",
    "    kmeans = KMeans(n_clusters=i, init='k-means++', max_iter=300, n_init=10, random_state=0) \n",
    "    kmeans.fit(df_scaled)\n",
    "    wcss.append(kmeans.inertia_)"
   ]
  },
  {
   "cell_type": "code",
   "execution_count": 7,
   "metadata": {},
   "outputs": [
    {
     "data": {
      "image/png": "[encoded data removed]",
      "text/plain": [
       "<Figure size 1000x600 with 1 Axes>"
      ]
     },
     "metadata": {},
     "output_type": "display_data"
    }
   ],
   "source": [
    "plt.figure(figsize=(10, 6))\n",
    "plt.plot(range(1, 11), wcss, marker='o')\n",
    "plt.title('Método do Cotovelo')\n",
    "plt.xlabel('Número de Clusters')\n",
    "plt.ylabel('WCSS')\n",
    "plt.grid(True)\n",
    "plt.grid(True)\n",
    "plt.show()"
   ]
  },
  {
   "cell_type": "code",
   "execution_count": 9,
   "metadata": {},
   "outputs": [
    {
     "data": {
      "text/html": [
       "<div>\n",
       "<style scoped>\n",
       "    .dataframe tbody tr th:only-of-type {\n",
       "        vertical-align: middle;\n",
       "    }\n",
       "\n",
       "    .dataframe tbody tr th {\n",
       "        vertical-align: top;\n",
       "    }\n",
       "\n",
       "    .dataframe thead th {\n",
       "        text-align: right;\n",
       "    }\n",
       "</style>\n",
       "<table border=\"1\" class=\"dataframe\">\n",
       "  <thead>\n",
       "    <tr style=\"text-align: right;\">\n",
       "      <th></th>\n",
       "      <th>Cluster</th>\n",
       "      <th>Idade_Media</th>\n",
       "      <th>Idade_DP</th>\n",
       "      <th>Receita_Anual_Media</th>\n",
       "      <th>Receita_Anual_DP</th>\n",
       "      <th>Pontuacao_de_Gastos_Media</th>\n",
       "      <th>Pontuacao_de_Gastos_DP</th>\n",
       "      <th>Contagem</th>\n",
       "    </tr>\n",
       "  </thead>\n",
       "  <tbody>\n",
       "    <tr>\n",
       "      <th>0</th>\n",
       "      <td>0</td>\n",
       "      <td>34.366667</td>\n",
       "      <td>10.087491</td>\n",
       "      <td>62033.200000</td>\n",
       "      <td>10760.291828</td>\n",
       "      <td>66.900000</td>\n",
       "      <td>12.866288</td>\n",
       "      <td>30</td>\n",
       "    </tr>\n",
       "    <tr>\n",
       "      <th>1</th>\n",
       "      <td>1</td>\n",
       "      <td>38.736842</td>\n",
       "      <td>8.913046</td>\n",
       "      <td>87045.789474</td>\n",
       "      <td>8758.535198</td>\n",
       "      <td>48.736842</td>\n",
       "      <td>11.509536</td>\n",
       "      <td>38</td>\n",
       "    </tr>\n",
       "    <tr>\n",
       "      <th>2</th>\n",
       "      <td>2</td>\n",
       "      <td>31.437500</td>\n",
       "      <td>10.345445</td>\n",
       "      <td>61069.750000</td>\n",
       "      <td>9060.433387</td>\n",
       "      <td>30.468750</td>\n",
       "      <td>13.762934</td>\n",
       "      <td>32</td>\n",
       "    </tr>\n",
       "  </tbody>\n",
       "</table>\n",
       "</div>"
      ],
      "text/plain": [
       "   Cluster  Idade_Media   Idade_DP  Receita_Anual_Media  Receita_Anual_DP  \\\n",
       "0        0    34.366667  10.087491         62033.200000      10760.291828   \n",
       "1        1    38.736842   8.913046         87045.789474       8758.535198   \n",
       "2        2    31.437500  10.345445         61069.750000       9060.433387   \n",
       "\n",
       "   Pontuacao_de_Gastos_Media  Pontuacao_de_Gastos_DP  Contagem  \n",
       "0                  66.900000               12.866288        30  \n",
       "1                  48.736842               11.509536        38  \n",
       "2                  30.468750               13.762934        32  "
      ]
     },
     "execution_count": 9,
     "metadata": {},
     "output_type": "execute_result"
    }
   ],
   "source": [
    "kmeans = KMeans(n_clusters=3, init='k-means++', max_iter=300, n_init=10, random_state=0)\n",
    "cluster_labels = kmeans.fit_predict(df_scaled)\n",
    "\n",
    "df['Cluster'] = cluster_labels\n",
    "df_scaled['Cluster'] = cluster_labels\n",
    "\n",
    "cluster_summary = df.groupby('Cluster').agg({\n",
    "    'Idade': ['mean', 'std'],\n",
    "    'Receita Anual': ['mean', 'std'],\n",
    "    'Pontuação de Gastos': ['mean', 'std'],\n",
    "    'Cluster': 'count'\n",
    "}).reset_index()\n",
    "\n",
    "cluster_summary.columns = ['Cluster', 'Idade_Media', 'Idade_DP', 'Receita_Anual_Media', 'Receita_Anual_DP',\n",
    "'Pontuacao_de_Gastos_Media',\n",
    "'Pontuacao_de_Gastos_DP', 'Contagem']\n",
    "cluster_summary"
   ]
  }
 ],
 "metadata": {
  "kernelspec": {
   "display_name": "base",
   "language": "python",
   "name": "python3"
  },
  "language_info": {
   "codemirror_mode": {
    "name": "ipython",
    "version": 3
   },
   "file_extension": ".py",
   "mimetype": "text/x-python",
   "name": "python",
   "nbconvert_exporter": "python",
   "pygments_lexer": "ipython3",
   "version": "3.12.7"
  }
 },
 "nbformat": 4,
 "nbformat_minor": 2
}
