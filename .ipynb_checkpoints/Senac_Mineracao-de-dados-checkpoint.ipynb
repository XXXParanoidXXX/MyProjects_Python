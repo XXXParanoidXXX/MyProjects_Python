{
 "cells": [
  {
   "cell_type": "code",
   "execution_count": 2,
   "id": "8d7870f9-af10-43db-95b9-2218d989b765",
   "metadata": {},
   "outputs": [],
   "source": [
    "import pandas as pd"
   ]
  },
  {
   "cell_type": "code",
   "execution_count": 4,
   "id": "447c6294-81b1-4cec-89c7-c4a9acfcf0da",
   "metadata": {},
   "outputs": [],
   "source": [
    "dados_original = {\n",
    "    'Idade':[23, 45, 35, 50, 19, 37, 28, 43, 33, 55, 23],\n",
    "    'Altura (cm)':[175, 180, 169, 172, 165, 177, 162, 168, 171, 160, 16],\n",
    "    'Peso (kg)':[68, 75, 72, 80, 60, 74, 58, 70, 69, 73, 58]\n",
    "}"
   ]
  },
  {
   "cell_type": "code",
   "execution_count": 6,
   "id": "298bcc58-c120-40a5-b368-8612fa63fc03",
   "metadata": {},
   "outputs": [],
   "source": [
    "dados_original_df_pd = pd.DataFrame(dados_original)"
   ]
  },
  {
   "cell_type": "code",
   "execution_count": 8,
   "id": "8520e87c-6a2a-44b9-9947-145c152ad393",
   "metadata": {},
   "outputs": [
    {
     "data": {
      "text/html": [
       "<div>\n",
       "<style scoped>\n",
       "    .dataframe tbody tr th:only-of-type {\n",
       "        vertical-align: middle;\n",
       "    }\n",
       "\n",
       "    .dataframe tbody tr th {\n",
       "        vertical-align: top;\n",
       "    }\n",
       "\n",
       "    .dataframe thead th {\n",
       "        text-align: right;\n",
       "    }\n",
       "</style>\n",
       "<table border=\"1\" class=\"dataframe\">\n",
       "  <thead>\n",
       "    <tr style=\"text-align: right;\">\n",
       "      <th></th>\n",
       "      <th>Idade</th>\n",
       "      <th>Altura (cm)</th>\n",
       "      <th>Peso (kg)</th>\n",
       "    </tr>\n",
       "  </thead>\n",
       "  <tbody>\n",
       "    <tr>\n",
       "      <th>0</th>\n",
       "      <td>23</td>\n",
       "      <td>175</td>\n",
       "      <td>68</td>\n",
       "    </tr>\n",
       "    <tr>\n",
       "      <th>1</th>\n",
       "      <td>45</td>\n",
       "      <td>180</td>\n",
       "      <td>75</td>\n",
       "    </tr>\n",
       "    <tr>\n",
       "      <th>2</th>\n",
       "      <td>35</td>\n",
       "      <td>169</td>\n",
       "      <td>72</td>\n",
       "    </tr>\n",
       "    <tr>\n",
       "      <th>3</th>\n",
       "      <td>50</td>\n",
       "      <td>172</td>\n",
       "      <td>80</td>\n",
       "    </tr>\n",
       "    <tr>\n",
       "      <th>4</th>\n",
       "      <td>19</td>\n",
       "      <td>165</td>\n",
       "      <td>60</td>\n",
       "    </tr>\n",
       "  </tbody>\n",
       "</table>\n",
       "</div>"
      ],
      "text/plain": [
       "   Idade  Altura (cm)  Peso (kg)\n",
       "0     23          175         68\n",
       "1     45          180         75\n",
       "2     35          169         72\n",
       "3     50          172         80\n",
       "4     19          165         60"
      ]
     },
     "execution_count": 8,
     "metadata": {},
     "output_type": "execute_result"
    }
   ],
   "source": [
    "dados_original_df_pd.head()"
   ]
  },
  {
   "cell_type": "code",
   "execution_count": 14,
   "id": "f5a5cb92-eec8-4ebb-b826-bbf99badc860",
   "metadata": {},
   "outputs": [
    {
     "data": {
      "text/html": [
       "<div>\n",
       "<style scoped>\n",
       "    .dataframe tbody tr th:only-of-type {\n",
       "        vertical-align: middle;\n",
       "    }\n",
       "\n",
       "    .dataframe tbody tr th {\n",
       "        vertical-align: top;\n",
       "    }\n",
       "\n",
       "    .dataframe thead th {\n",
       "        text-align: right;\n",
       "    }\n",
       "</style>\n",
       "<table border=\"1\" class=\"dataframe\">\n",
       "  <thead>\n",
       "    <tr style=\"text-align: right;\">\n",
       "      <th></th>\n",
       "      <th>Idade</th>\n",
       "      <th>Altura (cm)</th>\n",
       "      <th>Peso (kg)</th>\n",
       "    </tr>\n",
       "  </thead>\n",
       "  <tbody>\n",
       "    <tr>\n",
       "      <th>0</th>\n",
       "      <td>23</td>\n",
       "      <td>175</td>\n",
       "      <td>68</td>\n",
       "    </tr>\n",
       "    <tr>\n",
       "      <th>1</th>\n",
       "      <td>45</td>\n",
       "      <td>180</td>\n",
       "      <td>75</td>\n",
       "    </tr>\n",
       "    <tr>\n",
       "      <th>2</th>\n",
       "      <td>35</td>\n",
       "      <td>169</td>\n",
       "      <td>72</td>\n",
       "    </tr>\n",
       "    <tr>\n",
       "      <th>3</th>\n",
       "      <td>50</td>\n",
       "      <td>172</td>\n",
       "      <td>80</td>\n",
       "    </tr>\n",
       "    <tr>\n",
       "      <th>4</th>\n",
       "      <td>19</td>\n",
       "      <td>165</td>\n",
       "      <td>60</td>\n",
       "    </tr>\n",
       "    <tr>\n",
       "      <th>5</th>\n",
       "      <td>37</td>\n",
       "      <td>177</td>\n",
       "      <td>74</td>\n",
       "    </tr>\n",
       "    <tr>\n",
       "      <th>6</th>\n",
       "      <td>28</td>\n",
       "      <td>162</td>\n",
       "      <td>58</td>\n",
       "    </tr>\n",
       "    <tr>\n",
       "      <th>7</th>\n",
       "      <td>43</td>\n",
       "      <td>168</td>\n",
       "      <td>70</td>\n",
       "    </tr>\n",
       "    <tr>\n",
       "      <th>8</th>\n",
       "      <td>33</td>\n",
       "      <td>171</td>\n",
       "      <td>69</td>\n",
       "    </tr>\n",
       "    <tr>\n",
       "      <th>9</th>\n",
       "      <td>55</td>\n",
       "      <td>160</td>\n",
       "      <td>73</td>\n",
       "    </tr>\n",
       "    <tr>\n",
       "      <th>10</th>\n",
       "      <td>23</td>\n",
       "      <td>16</td>\n",
       "      <td>58</td>\n",
       "    </tr>\n",
       "  </tbody>\n",
       "</table>\n",
       "</div>"
      ],
      "text/plain": [
       "    Idade  Altura (cm)  Peso (kg)\n",
       "0      23          175         68\n",
       "1      45          180         75\n",
       "2      35          169         72\n",
       "3      50          172         80\n",
       "4      19          165         60\n",
       "5      37          177         74\n",
       "6      28          162         58\n",
       "7      43          168         70\n",
       "8      33          171         69\n",
       "9      55          160         73\n",
       "10     23           16         58"
      ]
     },
     "execution_count": 14,
     "metadata": {},
     "output_type": "execute_result"
    }
   ],
   "source": [
    "dados_original_df_pd.head(11)"
   ]
  },
  {
   "cell_type": "code",
   "execution_count": 12,
   "id": "72e5a0eb-b99d-482f-8d89-4aa23815b709",
   "metadata": {},
   "outputs": [
    {
     "data": {
      "text/html": [
       "<div>\n",
       "<style scoped>\n",
       "    .dataframe tbody tr th:only-of-type {\n",
       "        vertical-align: middle;\n",
       "    }\n",
       "\n",
       "    .dataframe tbody tr th {\n",
       "        vertical-align: top;\n",
       "    }\n",
       "\n",
       "    .dataframe thead th {\n",
       "        text-align: right;\n",
       "    }\n",
       "</style>\n",
       "<table border=\"1\" class=\"dataframe\">\n",
       "  <thead>\n",
       "    <tr style=\"text-align: right;\">\n",
       "      <th></th>\n",
       "      <th>Idade</th>\n",
       "      <th>Altura (cm)</th>\n",
       "      <th>Peso (kg)</th>\n",
       "    </tr>\n",
       "  </thead>\n",
       "  <tbody>\n",
       "    <tr>\n",
       "      <th>6</th>\n",
       "      <td>28</td>\n",
       "      <td>162</td>\n",
       "      <td>58</td>\n",
       "    </tr>\n",
       "    <tr>\n",
       "      <th>7</th>\n",
       "      <td>43</td>\n",
       "      <td>168</td>\n",
       "      <td>70</td>\n",
       "    </tr>\n",
       "    <tr>\n",
       "      <th>8</th>\n",
       "      <td>33</td>\n",
       "      <td>171</td>\n",
       "      <td>69</td>\n",
       "    </tr>\n",
       "    <tr>\n",
       "      <th>9</th>\n",
       "      <td>55</td>\n",
       "      <td>160</td>\n",
       "      <td>73</td>\n",
       "    </tr>\n",
       "    <tr>\n",
       "      <th>10</th>\n",
       "      <td>23</td>\n",
       "      <td>16</td>\n",
       "      <td>58</td>\n",
       "    </tr>\n",
       "  </tbody>\n",
       "</table>\n",
       "</div>"
      ],
      "text/plain": [
       "    Idade  Altura (cm)  Peso (kg)\n",
       "6      28          162         58\n",
       "7      43          168         70\n",
       "8      33          171         69\n",
       "9      55          160         73\n",
       "10     23           16         58"
      ]
     },
     "execution_count": 12,
     "metadata": {},
     "output_type": "execute_result"
    }
   ],
   "source": [
    "dados_original_df_pd.tail()"
   ]
  },
  {
   "cell_type": "code",
   "execution_count": 16,
   "id": "7148c1ca-e561-4dc4-b648-fe050816e6f6",
   "metadata": {},
   "outputs": [
    {
     "data": {
      "text/html": [
       "<div>\n",
       "<style scoped>\n",
       "    .dataframe tbody tr th:only-of-type {\n",
       "        vertical-align: middle;\n",
       "    }\n",
       "\n",
       "    .dataframe tbody tr th {\n",
       "        vertical-align: top;\n",
       "    }\n",
       "\n",
       "    .dataframe thead th {\n",
       "        text-align: right;\n",
       "    }\n",
       "</style>\n",
       "<table border=\"1\" class=\"dataframe\">\n",
       "  <thead>\n",
       "    <tr style=\"text-align: right;\">\n",
       "      <th></th>\n",
       "      <th>Idade</th>\n",
       "      <th>Altura (cm)</th>\n",
       "      <th>Peso (kg)</th>\n",
       "    </tr>\n",
       "  </thead>\n",
       "  <tbody>\n",
       "    <tr>\n",
       "      <th>count</th>\n",
       "      <td>11.000000</td>\n",
       "      <td>11.000000</td>\n",
       "      <td>11.000000</td>\n",
       "    </tr>\n",
       "    <tr>\n",
       "      <th>mean</th>\n",
       "      <td>35.545455</td>\n",
       "      <td>155.909091</td>\n",
       "      <td>68.818182</td>\n",
       "    </tr>\n",
       "    <tr>\n",
       "      <th>std</th>\n",
       "      <td>11.775938</td>\n",
       "      <td>46.802681</td>\n",
       "      <td>7.291340</td>\n",
       "    </tr>\n",
       "    <tr>\n",
       "      <th>min</th>\n",
       "      <td>19.000000</td>\n",
       "      <td>16.000000</td>\n",
       "      <td>58.000000</td>\n",
       "    </tr>\n",
       "    <tr>\n",
       "      <th>25%</th>\n",
       "      <td>25.500000</td>\n",
       "      <td>163.500000</td>\n",
       "      <td>64.000000</td>\n",
       "    </tr>\n",
       "    <tr>\n",
       "      <th>50%</th>\n",
       "      <td>35.000000</td>\n",
       "      <td>169.000000</td>\n",
       "      <td>70.000000</td>\n",
       "    </tr>\n",
       "    <tr>\n",
       "      <th>75%</th>\n",
       "      <td>44.000000</td>\n",
       "      <td>173.500000</td>\n",
       "      <td>73.500000</td>\n",
       "    </tr>\n",
       "    <tr>\n",
       "      <th>max</th>\n",
       "      <td>55.000000</td>\n",
       "      <td>180.000000</td>\n",
       "      <td>80.000000</td>\n",
       "    </tr>\n",
       "  </tbody>\n",
       "</table>\n",
       "</div>"
      ],
      "text/plain": [
       "           Idade  Altura (cm)  Peso (kg)\n",
       "count  11.000000    11.000000  11.000000\n",
       "mean   35.545455   155.909091  68.818182\n",
       "std    11.775938    46.802681   7.291340\n",
       "min    19.000000    16.000000  58.000000\n",
       "25%    25.500000   163.500000  64.000000\n",
       "50%    35.000000   169.000000  70.000000\n",
       "75%    44.000000   173.500000  73.500000\n",
       "max    55.000000   180.000000  80.000000"
      ]
     },
     "execution_count": 16,
     "metadata": {},
     "output_type": "execute_result"
    }
   ],
   "source": [
    "dados_original_df_pd.describe()"
   ]
  },
  {
   "cell_type": "code",
   "execution_count": 22,
   "id": "1b43ef91-dad8-4533-81b5-4202f6e163d8",
   "metadata": {},
   "outputs": [
    {
     "name": "stdout",
     "output_type": "stream",
     "text": [
      "35.54545454545455\n"
     ]
    }
   ],
   "source": [
    "media_idade = dados_original_df_pd['Idade'].mean()\n",
    "print(media_idade)"
   ]
  },
  {
   "cell_type": "code",
   "execution_count": 26,
   "id": "641dd763-6768-4ff0-874f-c5eff549d810",
   "metadata": {},
   "outputs": [
    {
     "name": "stdout",
     "output_type": "stream",
     "text": [
      "155.9090909090909\n"
     ]
    }
   ],
   "source": [
    "media_altura = dados_original_df_pd['Altura (cm)'].mean()\n",
    "print(media_altura)"
   ]
  },
  {
   "cell_type": "code",
   "execution_count": 30,
   "id": "969bff74-0527-4140-b974-37c277aecc8b",
   "metadata": {},
   "outputs": [
    {
     "name": "stdout",
     "output_type": "stream",
     "text": [
      "68.81818181818181\n"
     ]
    }
   ],
   "source": [
    "media_peso = dados_original_df_pd['Peso (kg)'].mean()\n",
    "print(media_peso)"
   ]
  },
  {
   "cell_type": "code",
   "execution_count": 36,
   "id": "b658e280-5ba9-427f-ab71-c97ad3d342ad",
   "metadata": {},
   "outputs": [
    {
     "name": "stdout",
     "output_type": "stream",
     "text": [
      "A média de idade é 35.54545454545455.\n",
      "A média de altura é 155.9090909090909.\n",
      "A média de peso é 68.81818181818181.\n"
     ]
    }
   ],
   "source": [
    "print(f'A média de idade é {media_idade}.')\n",
    "print(f'A média de altura é {media_altura}.')\n",
    "print(f'A média de peso é {media_peso}.')"
   ]
  },
  {
   "cell_type": "code",
   "execution_count": 50,
   "id": "108166c0-3682-4b8e-bc1a-40f16a0c8dbf",
   "metadata": {},
   "outputs": [
    {
     "name": "stdout",
     "output_type": "stream",
     "text": [
      "A média de idade é 36.\n",
      "A média de altura é 156.\n",
      "A média de peso é 69.\n"
     ]
    }
   ],
   "source": [
    "print('A média de idade é ' + str(round(media_idade)) + '.')\n",
    "print('A média de altura é '+ str(round(media_altura)) + '.')\n",
    "print('A média de peso é '+ str(round(media_peso)) + '.')"
   ]
  },
  {
   "cell_type": "code",
   "execution_count": 54,
   "id": "5c470f98-95c1-4c80-af1b-555a2d355e57",
   "metadata": {},
   "outputs": [
    {
     "name": "stdout",
     "output_type": "stream",
     "text": [
      "35.0\n",
      "35.0\n",
      "70.0\n"
     ]
    }
   ],
   "source": [
    "mediana_idade = dados_original_df_pd['Idade'].median()\n",
    "print(mediana_idade)\n",
    "mediana_altura = dados_original_df_pd['Altura (cm)'].median()\n",
    "print(mediana_idade)\n",
    "mediana_peso = dados_original_df_pd['Peso (kg)'].median()\n",
    "print(mediana_peso)"
   ]
  },
  {
   "cell_type": "code",
   "execution_count": 70,
   "id": "b291e637-4f08-4119-bc3a-19c6ab654dab",
   "metadata": {},
   "outputs": [
    {
     "name": "stdout",
     "output_type": "stream",
     "text": [
      "A mediana da idade é 35.0.\n",
      "A mediana da altura é 169.0.\n",
      "A mediana do peso é 169.0.\n"
     ]
    }
   ],
   "source": [
    "print('A mediana da idade é '+ str(mediana_idade) + '.')\n",
    "print('A mediana da altura é '+ str(mediana_altura)+'.')\n",
    "print('A mediana do peso é '+str(mediana_altura)+'.')"
   ]
  },
  {
   "cell_type": "code",
   "execution_count": 72,
   "id": "f067a8cf-72bd-48a0-a4f4-25c874c2a5bc",
   "metadata": {},
   "outputs": [
    {
     "name": "stdout",
     "output_type": "stream",
     "text": [
      "A mediana da idade é 35.\n",
      "A mediana da altura é 169.\n",
      "A mediana do peso é 169.\n"
     ]
    }
   ],
   "source": [
    "print('A mediana da idade é '+ str(round(mediana_idade)) + '.')\n",
    "print('A mediana da altura é '+ str(round(mediana_altura))+'.')\n",
    "print('A mediana do peso é '+str(round(mediana_altura))+'.')"
   ]
  },
  {
   "cell_type": "code",
   "execution_count": 78,
   "id": "2a6e71cb-27cf-457a-abb0-856f154c1222",
   "metadata": {},
   "outputs": [
    {
     "name": "stdout",
     "output_type": "stream",
     "text": [
      "0    23\n",
      "Name: Idade, dtype: int64\n",
      "0      16\n",
      "1     160\n",
      "2     162\n",
      "3     165\n",
      "4     168\n",
      "5     169\n",
      "6     171\n",
      "7     172\n",
      "8     175\n",
      "9     177\n",
      "10    180\n",
      "Name: Altura (cm), dtype: int64\n",
      "0    58\n",
      "Name: Peso (kg), dtype: int64\n"
     ]
    }
   ],
   "source": [
    "# Nesse dataset, não há números repetidos. \n",
    "moda_idade = dados_original_df_pd['Idade'].mode()\n",
    "print(moda_idade)\n",
    "moda_altura = dados_original_df_pd['Altura (cm)'].mode()\n",
    "print(moda_altura)\n",
    "moda_peso = dados_original_df_pd['Peso (kg)'].mode()\n",
    "print(moda_peso)"
   ]
  },
  {
   "cell_type": "code",
   "execution_count": 80,
   "id": "3f759252-64e1-48d1-9c6e-b7a9d8abebe3",
   "metadata": {},
   "outputs": [
    {
     "name": "stdout",
     "output_type": "stream",
     "text": [
      "A moda da idade é 0    23\n",
      "Name: Idade, dtype: int64.\n",
      "A moda da altura é 0      16\n",
      "1     160\n",
      "2     162\n",
      "3     165\n",
      "4     168\n",
      "5     169\n",
      "6     171\n",
      "7     172\n",
      "8     175\n",
      "9     177\n",
      "10    180\n",
      "Name: Altura (cm), dtype: int64.\n",
      "A moda do peso é 0      16\n",
      "1     160\n",
      "2     162\n",
      "3     165\n",
      "4     168\n",
      "5     169\n",
      "6     171\n",
      "7     172\n",
      "8     175\n",
      "9     177\n",
      "10    180\n",
      "Name: Altura (cm), dtype: int64.\n"
     ]
    }
   ],
   "source": [
    "print('A moda da idade é '+ str(moda_idade) + '.')\n",
    "print('A moda da altura é '+ str(moda_altura)+'.')\n",
    "print('A moda do peso é '+str(moda_altura)+'.')"
   ]
  },
  {
   "cell_type": "code",
   "execution_count": 82,
   "id": "6b4a90aa-3308-4d8a-862e-7e4846c48677",
   "metadata": {},
   "outputs": [
    {
     "name": "stdout",
     "output_type": "stream",
     "text": [
      "11.77593848798164\n",
      "46.802680575912625\n",
      "7.2913398195144055\n"
     ]
    }
   ],
   "source": [
    "desvio_idade = dados_original_df_pd['Idade'].std()\n",
    "print(desvio_idade)\n",
    "desvio_altura = dados_original_df_pd['Altura (cm)'].std()\n",
    "print(desvio_altura)\n",
    "desvio_peso = dados_original_df_pd['Peso (kg)'].std()\n",
    "print(desvio_peso)"
   ]
  },
  {
   "cell_type": "code",
   "execution_count": 84,
   "id": "86100016-2b06-4b04-a441-00496160371c",
   "metadata": {},
   "outputs": [
    {
     "name": "stdout",
     "output_type": "stream",
     "text": [
      "O desvio-padrão da idade é 12.\n",
      "O desvio-padrão da altura é 47.\n",
      "O desvio-padrão da peso é 7.\n"
     ]
    }
   ],
   "source": [
    "print('O desvio-padrão da idade é '+str(round(desvio_idade))+'.')\n",
    "print('O desvio-padrão da altura é '+str(round(desvio_altura))+'.')\n",
    "print('O desvio-padrão da peso é '+str(round(desvio_peso))+'.')"
   ]
  },
  {
   "cell_type": "code",
   "execution_count": null,
   "id": "310eeb9c-b502-4185-8f36-f68fec65decb",
   "metadata": {},
   "outputs": [],
   "source": []
  }
 ],
 "metadata": {
  "kernelspec": {
   "display_name": "Python [conda env:base] *",
   "language": "python",
   "name": "conda-base-py"
  },
  "language_info": {
   "codemirror_mode": {
    "name": "ipython",
    "version": 3
   },
   "file_extension": ".py",
   "mimetype": "text/x-python",
   "name": "python",
   "nbconvert_exporter": "python",
   "pygments_lexer": "ipython3",
   "version": "3.12.7"
  }
 },
 "nbformat": 4,
 "nbformat_minor": 5
}
