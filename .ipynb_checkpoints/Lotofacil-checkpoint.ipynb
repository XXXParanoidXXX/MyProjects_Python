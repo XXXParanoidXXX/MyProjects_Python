{
 "cells": [
  {
   "cell_type": "code",
   "execution_count": 11,
   "id": "2c4a1bd5-1b39-4097-a171-7f915d8d481b",
   "metadata": {},
   "outputs": [
    {
     "name": "stdout",
     "output_type": "stream",
     "text": [
      "Arquivo carregado com sucesso!\n",
      "   Concurso        Data  bola 1  bola 2  bola 3  bola 4  bola 5  bola 6  \\\n",
      "0      3361  05/04/2025       1       2       5       8       9      10   \n",
      "1      3360  04/04/2025       1       2       3       4       6       8   \n",
      "2      3359  03/04/2025       1       2       7       8       9      11   \n",
      "3      3358  02/04/2025       1       2       4       6       7       8   \n",
      "4      3357  01/04/2025       1       2       3       5       7       8   \n",
      "\n",
      "   bola 7  bola 8  bola 9  bola 10  bola 11  bola 12  bola 13  bola 14  \\\n",
      "0      11      13      16       17       18       20       22       23   \n",
      "1       9      10      11       16       17       20       21       23   \n",
      "2      13      14      16       19       20       22       23       24   \n",
      "3       9      10      11       14       15       17       18       19   \n",
      "4       9      11      13       14       15       19       20       24   \n",
      "\n",
      "   bola 15  \n",
      "0       24  \n",
      "1       25  \n",
      "2       25  \n",
      "3       24  \n",
      "4       25  \n",
      "5 combinações nunca sorteadas (formato para aposta):\n",
      "03-05-06-07-08-10-11-12-14-16-20-21-22-24-25\n",
      "02-04-05-06-07-09-13-15-16-17-18-20-21-24-25\n",
      "01-04-05-06-08-10-11-13-15-16-17-20-21-24-25\n",
      "02-03-04-05-06-08-09-10-11-16-18-20-21-23-25\n",
      "01-03-04-07-08-11-12-13-15-16-19-21-22-23-25\n"
     ]
    }
   ],
   "source": [
    "import pandas as pd\n",
    "from itertools import combinations\n",
    "from tqdm import tqdm\n",
    "import random\n",
    "\n",
    "# Caminho para o arquivo XLS da Lotofácil\n",
    "CAMINHO_ARQUIVO = '~/Downloads/loto_facil_asloterias_ate_concurso_3361_crescente.xlsx'  # Altere para o caminho correto\n",
    "\n",
    "try:\n",
    "    df = pd.read_excel(CAMINHO_ARQUIVO, skiprows=6)\n",
    "    print(\"Arquivo carregado com sucesso!\")\n",
    "    print(df.head())\n",
    "except FileNotFoundError:\n",
    "    print(\"Arquivo não encontrado. Verifique o caminho.\")\n",
    "except Exception as e:\n",
    "    print(f\"Outro erro ocorreu: {e}\")\n",
    "\n",
    "# Lê o arquivo ignorando as 6 primeiras linhas\n",
    "df = pd.read_excel(CAMINHO_ARQUIVO, skiprows=6)\n",
    "\n",
    "# Seleciona apenas as colunas das bolas\n",
    "col_bolas = [col for col in df.columns if \"bola\" in col.lower()]\n",
    "resultados = df[col_bolas].astype(int)\n",
    "\n",
    "# Ordena os números de cada linha para facilitar comparação\n",
    "resultados_ordenados = resultados.apply(lambda row: sorted(row.values), axis=1)\n",
    "\n",
    "# Converte os resultados em strings padronizadas com traço\n",
    "resultados_strings = set(\"-\".join(f\"{num:02d}\" for num in sorted(linha)) for linha in resultados_ordenados)\n",
    "\n",
    "# Gera todas as combinações possíveis de 15 números entre 1 e 25\n",
    "todas_combinacoes = combinations(range(1, 26), 15)\n",
    "\n",
    "# Filtra combinações que ainda não saíram\n",
    "combinacoes_nao_sorteadas = []\n",
    "for comb in todas_combinacoes:\n",
    "    comb_str = \"-\".join(f\"{num:02d}\" for num in comb)\n",
    "    if comb_str not in resultados_strings:\n",
    "        combinacoes_nao_sorteadas.append(comb_str)\n",
    "\n",
    "# Sorteia 5 combinações aleatórias que nunca saíram\n",
    "sorteadas = random.sample(combinacoes_nao_sorteadas, 5)\n",
    "\n",
    "# Exibe o resultado\n",
    "print(\"5 combinações nunca sorteadas (formato para aposta):\")\n",
    "for comb in sorteadas:\n",
    "    print(comb)"
   ]
  },
  {
   "cell_type": "code",
   "execution_count": null,
   "id": "d33e10c6-5967-4ba4-bc26-51cbf6fae445",
   "metadata": {},
   "outputs": [],
   "source": []
  }
 ],
 "metadata": {
  "kernelspec": {
   "display_name": "Python [conda env:base] *",
   "language": "python",
   "name": "conda-base-py"
  },
  "language_info": {
   "codemirror_mode": {
    "name": "ipython",
    "version": 3
   },
   "file_extension": ".py",
   "mimetype": "text/x-python",
   "name": "python",
   "nbconvert_exporter": "python",
   "pygments_lexer": "ipython3",
   "version": "3.12.7"
  }
 },
 "nbformat": 4,
 "nbformat_minor": 5
}
